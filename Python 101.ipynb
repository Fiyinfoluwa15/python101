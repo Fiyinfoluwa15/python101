{
 "cells": [
  {
   "cell_type": "code",
   "execution_count": 2,
   "id": "13d22067-91af-4b0b-99ca-bca18f15f6b0",
   "metadata": {},
   "outputs": [],
   "source": [
    "# LESSONS FROM FREECODECAMP\n",
    "# VARIABLES"
   ]
  },
  {
   "cell_type": "code",
   "execution_count": 4,
   "id": "6beedcda-f5eb-48be-b7e5-6a06585a371f",
   "metadata": {},
   "outputs": [],
   "source": [
    "name = \"John\"\n",
    "age = \"35\""
   ]
  },
  {
   "cell_type": "code",
   "execution_count": 16,
   "id": "7fe93329-06cd-4fbf-bc84-d44bfa52bc35",
   "metadata": {},
   "outputs": [
    {
     "name": "stdout",
     "output_type": "stream",
     "text": [
      "There was a man named John, \n",
      "He was 35 years old, \n",
      "he liked the name John, \n",
      "but he didn't like being 35.\n"
     ]
    }
   ],
   "source": [
    "print(\"There was a man named \" + name + \", \")\n",
    "print(\"He was \" + age + \" years old, \")\n",
    "print (\"he liked the name \" + name+ \", \")\n",
    "print (\"but he didn't like being \" + age + \".\")\n",
    "      "
   ]
  },
  {
   "cell_type": "code",
   "execution_count": 18,
   "id": "136c6bdd-4d85-4a46-92c2-d655cba413fc",
   "metadata": {},
   "outputs": [],
   "source": [
    "#types of data types in Python\n",
    "# 1. string is a plain text. Usually kept in quotation marks \n",
    "# 2. number\n",
    "# 3. boolean (T/F value).... note,  T and F have to be in capital letters"
   ]
  },
  {
   "cell_type": "code",
   "execution_count": 28,
   "id": "957e0afb-e4a7-4924-91d2-1b323a62e207",
   "metadata": {},
   "outputs": [
    {
     "name": "stdout",
     "output_type": "stream",
     "text": [
      "Giraffe\n",
      "Academy\n",
      "Giraffe\"Academy\n",
      "Giraffe\\Academy\n"
     ]
    }
   ],
   "source": [
    "#to insert a new line (backlask)\n",
    "print (\"Giraffe\\nAcademy\")\n",
    "print (\"Giraffe\\\"Academy\")\n",
    "print (\"Giraffe\\Academy\")"
   ]
  },
  {
   "cell_type": "code",
   "execution_count": 38,
   "id": "af78d91b-1f05-445a-9ef0-f756337c3532",
   "metadata": {},
   "outputs": [
    {
     "name": "stdout",
     "output_type": "stream",
     "text": [
      "Giraffe Academy is cool\n",
      "giraffe academy\n",
      "GIRAFFE ACADEMY\n",
      "False\n",
      "True\n",
      "15\n",
      "G\n",
      "3\n",
      "Elephant Academy\n"
     ]
    }
   ],
   "source": [
    "phrase = \"Giraffe Academy\"\n",
    "#concatenation, Functions, Index \n",
    "print(phrase + \" is cool\")\n",
    "print (phrase.lower())\n",
    "print(phrase.upper())\n",
    "print(phrase.isupper())\n",
    "print(phrase.upper().isupper())\n",
    "print(len(phrase))\n",
    "print(phrase[0]) #index 0 to access the first character in a string\n",
    "print(phrase.index(\"aff\"))\n",
    "print(phrase.replace(\"Giraffe\", \"Elephant\"))\n",
    "      "
   ]
  },
  {
   "cell_type": "code",
   "execution_count": 48,
   "id": "3c06ce51-1b2b-4bba-ad9c-1900afe3d461",
   "metadata": {},
   "outputs": [
    {
     "name": "stdout",
     "output_type": "stream",
     "text": [
      "62.88\n",
      "1\n",
      "3.3333333333333335\n",
      "-5\n",
      "-5 is my favourite number\n",
      "5\n",
      "9\n",
      "-125\n",
      "6\n",
      "1\n"
     ]
    },
    {
     "ename": "NameError",
     "evalue": "name 'mean' is not defined",
     "output_type": "error",
     "traceback": [
      "\u001b[0;31m---------------------------------------------------------------------------\u001b[0m",
      "\u001b[0;31mNameError\u001b[0m                                 Traceback (most recent call last)",
      "Input \u001b[0;32mIn [48]\u001b[0m, in \u001b[0;36m<cell line: 14>\u001b[0;34m()\u001b[0m\n\u001b[1;32m     12\u001b[0m x \u001b[38;5;241m=\u001b[39m \u001b[38;5;241m1\u001b[39m, \u001b[38;5;241m23\u001b[39m, \u001b[38;5;241m34\u001b[39m, \u001b[38;5;241m34\u001b[39m\n\u001b[1;32m     13\u001b[0m \u001b[38;5;28mprint\u001b[39m (\u001b[38;5;28mmin\u001b[39m(x))\n\u001b[0;32m---> 14\u001b[0m \u001b[38;5;28mprint\u001b[39m(\u001b[43mmean\u001b[49m(x))\n",
      "\u001b[0;31mNameError\u001b[0m: name 'mean' is not defined"
     ]
    }
   ],
   "source": [
    "# Working with numbers\n",
    "print(-2.08 *(9/6)+66)\n",
    "print(10 % 3) # gives the reminder, 10 mod 3\n",
    "print(10/3)\n",
    "my_num = -5\n",
    "print (str(my_num)) # string conversion\n",
    "print(str(my_num) + \" is my favourite number\")\n",
    "print(abs(my_num))\n",
    "print(pow(3, 2)) # 3 raised to the power of 2\n",
    "print(pow(my_num, 3))\n",
    "print(max(4, 6))\n",
    "x = 1, 23, 34, 34\n",
    "print (min(x))\n",
    "print (round(3.2))\n",
    "print(round(3.7))\n"
   ]
  },
  {
   "cell_type": "code",
   "execution_count": 50,
   "id": "49129901-8570-4643-ade7-1405d4cda0cc",
   "metadata": {},
   "outputs": [],
   "source": [
    "from math import * "
   ]
  },
  {
   "cell_type": "code",
   "execution_count": 52,
   "id": "7cebcd9c-46da-4fdf-966c-026cdcfba3b3",
   "metadata": {},
   "outputs": [
    {
     "name": "stdout",
     "output_type": "stream",
     "text": [
      "3\n",
      "4\n",
      "6.0\n"
     ]
    }
   ],
   "source": [
    "# more math function \n",
    "print(floor(3.7)) # rounds down no matter what \n",
    "print(ceil(3.7)) # rounds up no matter what \n",
    "print(sqrt(36))"
   ]
  },
  {
   "cell_type": "code",
   "execution_count": 56,
   "id": "d24b86df-b109-4ba5-a8ba-3854e0f3072c",
   "metadata": {},
   "outputs": [
    {
     "name": "stdin",
     "output_type": "stream",
     "text": [
      "Enter your name:  Fiyin\n",
      "Enter your age:  22\n"
     ]
    },
    {
     "name": "stdout",
     "output_type": "stream",
     "text": [
      "Hello Fiyin! You're 22\n"
     ]
    }
   ],
   "source": [
    "# getting input from a user\n",
    "name = input (\"Enter your name: \") \n",
    "age = input(\"Enter your age: \")\n",
    "print(\"Hello \" + name + \"! You're \" + age)"
   ]
  },
  {
   "cell_type": "code",
   "execution_count": 64,
   "id": "5f7f0bb2-c1fe-4c2d-9528-464a8a5bf4b1",
   "metadata": {},
   "outputs": [
    {
     "name": "stdin",
     "output_type": "stream",
     "text": [
      "Enter your first number:  3\n",
      "Enter your second number:  8.9\n"
     ]
    },
    {
     "name": "stdout",
     "output_type": "stream",
     "text": [
      "11.9\n"
     ]
    }
   ],
   "source": [
    "# buliding a basic calculator\n",
    "num1 = input(\"Enter your first number: \")\n",
    "num2 = input(\"Enter your second number: \")\n",
    "result = int(num1) + float(num2) # conversion to integer - whole number (int) then (float) decimal number\n",
    "print (result)"
   ]
  },
  {
   "cell_type": "code",
   "execution_count": 66,
   "id": "fbfa8675-8631-4720-8186-2d35089de37e",
   "metadata": {},
   "outputs": [
    {
     "name": "stdout",
     "output_type": "stream",
     "text": [
      "Roses are red\n"
     ]
    }
   ],
   "source": [
    "print(\"Roses are red\")\n",
    "# skipped mad libs "
   ]
  },
  {
   "cell_type": "code",
   "execution_count": 80,
   "id": "9a97c03d-ff42-443b-a23a-4720181d9bb0",
   "metadata": {},
   "outputs": [
    {
     "name": "stdout",
     "output_type": "stream",
     "text": [
      "['Anushuka', 'Labode', 'Foojan', 'Oluwatomisona', 'Sara']\n",
      "Labode\n",
      "Sara\n",
      "['Foojan', 'Oluwatomisona', 'Sara']\n",
      "['Anushuka', 'Mike', 'Foojan', 'Oluwatomisona', 'Sara']\n"
     ]
    }
   ],
   "source": [
    "#LISTS []\n",
    "# A structure we can use to store lists of information in Python\n",
    "# Accepts any kind of information ... numbers, booleans etc\n",
    "friends = [\"Anushuka\", \"Labode\", \"Foojan\", \"Oluwatomisona\", \"Sara\"]\n",
    "print (friends)\n",
    "print(friends[1]) #using index\n",
    "print(friends[-1]) #using index\n",
    "print(friends[2:]) # grabs from index 2 and above\n",
    "friends[1]= \"Mike\"\n",
    "print(friends)"
   ]
  },
  {
   "cell_type": "code",
   "execution_count": 102,
   "id": "07c0a14b-1db0-4a91-ab27-cba40da4706b",
   "metadata": {},
   "outputs": [
    {
     "name": "stdout",
     "output_type": "stream",
     "text": [
      "2\n",
      "[]\n"
     ]
    }
   ],
   "source": [
    "#LIST FUNCTIONS \n",
    "lucky_numbers = [4, 8, 9, 12, 3, 42, 55]\n",
    "friends = [\"Anushuka\", \"Labode\", \"Foojan\", \"Oluwatomisona\", \"Labode\", \"Foojan\", \"Sara\"]\n",
    "guests = [\"Ayo\", \"Bolu\", \"Tito\"]\n",
    "friends.extend(guests)\n",
    "friends.append(\"Creed\") # added to the nd of the list \n",
    "friends.insert(1, \"Jones\") # allows you specify the location you want the new item\n",
    "friends.remove (\"Jones\")\n",
    "friends.sort()\n",
    "print(friends.count(\"Foojan\"))\n",
    "#print(friends.index(\"Kevin\"))\n",
    "friends.pop()\n",
    "friends.clear() # clears the list \n",
    "print(friends)\n",
    "friends2 = friends.copy()\n",
    "lucky_numbers.sort()\n",
    "lucky_numbers.reverse()\n"
   ]
  },
  {
   "cell_type": "code",
   "execution_count": 108,
   "id": "ae99df91-1c06-4f7d-9357-3bff28c63db0",
   "metadata": {},
   "outputs": [
    {
     "name": "stdout",
     "output_type": "stream",
     "text": [
      "(4, 5)\n",
      "4\n"
     ]
    }
   ],
   "source": [
    "#TUPLES ()\n",
    "# a data structure, a container where we can store different values\n",
    "# they are immutable, that is ,can't be changed\n",
    "# I can create a list of tuples\n",
    "coordinates = (4, 5) # my tuple with coordinates inside\n",
    "print(coordinates)\n",
    "print(coordinates[0])"
   ]
  },
  {
   "cell_type": "code",
   "execution_count": 138,
   "id": "d3800689-49cb-4009-87a1-550a9d8eb574",
   "metadata": {},
   "outputs": [
    {
     "name": "stdout",
     "output_type": "stream",
     "text": [
      "Hello Mike. You're 27\n",
      "Hello Manzi. You're 44\n"
     ]
    },
    {
     "data": {
      "text/plain": [
       "7.0"
      ]
     },
     "execution_count": 138,
     "metadata": {},
     "output_type": "execute_result"
    }
   ],
   "source": [
    "# FUNCTIONS\n",
    "def say_hi(name, age): #creating a function\n",
    "    print (\"Hello \" + name + \". You're \" + age )\n",
    "\n",
    "\n",
    "say_hi(\"Mike\", \"27\")\n",
    "# a parameter is a piece of information that we give to the function \n",
    "say_hi(\"Manzi\", \"44\")\n",
    "\n",
    "def rt(number):\n",
    "    return (sqrt(number))\n",
    "          \n",
    "rt(49)"
   ]
  },
  {
   "cell_type": "code",
   "execution_count": 136,
   "id": "127b1abd-d24e-4b0f-bfd1-d6548d2f7132",
   "metadata": {},
   "outputs": [
    {
     "name": "stdout",
     "output_type": "stream",
     "text": [
      "27\n",
      "64\n"
     ]
    }
   ],
   "source": [
    "# RETURN STATEMENT\n",
    "def cube(num):\n",
    "    print(num*num*num)\n",
    "    \n",
    "cube(3)\n",
    "#OR\n",
    "def cube(num):\n",
    "    return (num*num*num) #you can't put a code after return in a function\n",
    "    \n",
    "result=cube(4)\n",
    "print(result)\n"
   ]
  },
  {
   "cell_type": "code",
   "execution_count": 162,
   "id": "a999e4ee-2bdd-4976-9d08-8bff484b9675",
   "metadata": {},
   "outputs": [
    {
     "name": "stdout",
     "output_type": "stream",
     "text": [
      "You are either male or tall or both\n",
      "You are neither male nor tall\n"
     ]
    }
   ],
   "source": [
    "# IF statements\n",
    "is_male = True\n",
    "is_tall = False\n",
    "\n",
    "if is_male or is_tall: # will only be true when one or both is true #or #and\n",
    "    print(\"You are either male or tall or both\") # only executed when the if statement is true\n",
    "elif is_male and not(is_tall):\n",
    "    print(\"You are a tall male\")\n",
    "elif not(is_male) and is_tall:\n",
    "    print(\"You are neither male nor tall\")\n",
    "else:\n",
    "    print(\"You are not a  tall male \")\n"
   ]
  },
  {
   "cell_type": "code",
   "execution_count": 166,
   "id": "eb7c19f0-8e6f-46e7-8145-2cbe9c6da111",
   "metadata": {},
   "outputs": [
    {
     "data": {
      "text/plain": [
       "970"
      ]
     },
     "execution_count": 166,
     "metadata": {},
     "output_type": "execute_result"
    }
   ],
   "source": [
    "# Comparisons - did this myself \n",
    "def maxy(num):\n",
    "    return max(num)\n",
    "\n",
    "num = [1, 342, 77, 970]\n",
    "maxy(num)"
   ]
  },
  {
   "cell_type": "code",
   "execution_count": 176,
   "id": "b2e41080-e777-4954-834f-b373fe5a7903",
   "metadata": {},
   "outputs": [
    {
     "name": "stdout",
     "output_type": "stream",
     "text": [
      "78\n"
     ]
    }
   ],
   "source": [
    "# cmoparison \n",
    "def max_num(num1, num2, num3):\n",
    "    if num1 >= num2 and num1>= num3:\n",
    "        return num1\n",
    "    elif num2>=num1 and num2>= num3:\n",
    "        return num2\n",
    "    else:\n",
    "        return num3\n",
    "    \n",
    "print(max_num(16, 78, 12))"
   ]
  },
  {
   "cell_type": "code",
   "execution_count": 194,
   "id": "6fe01e63-4a03-48e7-a6c2-a92ce9cc7564",
   "metadata": {},
   "outputs": [
    {
     "name": "stdout",
     "output_type": "stream",
     "text": [
      "April\n",
      "January\n",
      "October\n",
      "Not a valid month name\n"
     ]
    }
   ],
   "source": [
    "#building a better calcilaTOR \n",
    "#Dictionary - a collection of values that are uniquely idenfied by a key\n",
    "\n",
    "month_conversion = {\n",
    "    \"jan\" : \"January\", \n",
    "    \"feb\": \"February\",\n",
    "    \"mar\" :\"March\",\n",
    "    \"apr\" : \"April\", \n",
    "    10: \"October\"\n",
    "}\n",
    "\n",
    "print(month_conversion[\"apr\"])\n",
    "print(month_conversion.get(\"jan\"))\n",
    "print(month_conversion.get(10))\n",
    "print(month_conversion.get(\"luv\", \"Not a valid month name\"))"
   ]
  },
  {
   "cell_type": "code",
   "execution_count": 204,
   "id": "b4670ea8-0653-4818-92f5-11b1fe70aa63",
   "metadata": {},
   "outputs": [
    {
     "name": "stdout",
     "output_type": "stream",
     "text": [
      "1\n",
      "2\n",
      "3\n",
      "4\n",
      "5\n",
      "6\n",
      "7\n",
      "8\n",
      "9\n",
      "10\n",
      "Done with loop\n"
     ]
    }
   ],
   "source": [
    "#WHILE LOOP\n",
    "# a structure in python that allows us to loop through and execute a block of codes multiple times \n",
    "# until a specified condition is false\n",
    "\n",
    "i=1\n",
    "while i <= 10:\n",
    "    print(i)\n",
    "    i = i+1\n",
    "    \n",
    "print(\"Done with loop\")    \n",
    "# or  i += 1\n",
    "\n"
   ]
  },
  {
   "cell_type": "code",
   "execution_count": 208,
   "id": "fb9a7129-d6b7-4caa-9aa8-2e24da19459c",
   "metadata": {},
   "outputs": [
    {
     "name": "stdin",
     "output_type": "stream",
     "text": [
      "what's the secret word? gold\n",
      "what's the secret word? hat\n",
      "what's the secret word? giraffe\n"
     ]
    },
    {
     "name": "stdout",
     "output_type": "stream",
     "text": [
      "Correct!\n"
     ]
    }
   ],
   "source": [
    "# GUESSING GAMES\n",
    "secret_word =\"giraffe\"\n",
    "guess = \" \"\n",
    "\n",
    "while guess != secret_word:\n",
    "    guess = input (\"what's the secret word?\") \n",
    "    \n",
    "print(\"Correct!\")"
   ]
  },
  {
   "cell_type": "code",
   "execution_count": 226,
   "id": "f12349c8-091d-455e-ab3a-57eb12d96f47",
   "metadata": {},
   "outputs": [
    {
     "name": "stdin",
     "output_type": "stream",
     "text": [
      "what's the secret word? coke\n",
      "what's the secret word? jam\n",
      "what's the secret word? bread\n"
     ]
    },
    {
     "name": "stdout",
     "output_type": "stream",
     "text": [
      "You lose\n"
     ]
    }
   ],
   "source": [
    "# GUESSING GAMES\n",
    "secret_word =\"giraffe\"\n",
    "guess = \" \"\n",
    "guess_count = 0\n",
    "guess_limit = 3\n",
    "out_of_guesses= False\n",
    "\n",
    "while guess != secret_word and not(out_of_guesses):\n",
    "    if guess_count < guess_limit:\n",
    "        guess = input (\"what's the secret word?\") \n",
    "        guess_count += 1\n",
    "    else:\n",
    "        out_of_guesses = True\n",
    "        \n",
    "if out_of_guesses:\n",
    "    print(\"You lose\")\n",
    "else:\n",
    "    print(\"Correct!\")"
   ]
  },
  {
   "cell_type": "code",
   "execution_count": null,
   "id": "02ffc450-ff4e-4702-9d2e-4eec1915a55f",
   "metadata": {},
   "outputs": [],
   "source": [
    "# FOR LOOPS\n"
   ]
  }
 ],
 "metadata": {
  "kernelspec": {
   "display_name": "anaconda-2022.05-py39",
   "language": "python",
   "name": "conda-env-anaconda-2022.05-py39-py"
  },
  "language_info": {
   "codemirror_mode": {
    "name": "ipython",
    "version": 3
   },
   "file_extension": ".py",
   "mimetype": "text/x-python",
   "name": "python",
   "nbconvert_exporter": "python",
   "pygments_lexer": "ipython3",
   "version": "3.9.12"
  }
 },
 "nbformat": 4,
 "nbformat_minor": 5
}
